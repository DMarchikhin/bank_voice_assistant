{
 "cells": [
  {
   "cell_type": "code",
   "execution_count": 1,
   "metadata": {},
   "outputs": [],
   "source": [
    "import requests"
   ]
  },
  {
   "cell_type": "code",
   "execution_count": 2,
   "metadata": {},
   "outputs": [],
   "source": [
    "URL = \"http://localhost:3000/products/\""
   ]
  },
  {
   "cell_type": "code",
   "execution_count": 3,
   "metadata": {},
   "outputs": [],
   "source": [
    "response = requests.get(url = URL) \n",
    "data = response.json()"
   ]
  },
  {
   "cell_type": "code",
   "execution_count": 4,
   "metadata": {},
   "outputs": [
    {
     "data": {
      "text/plain": [
       "[{'id': 1,\n",
       "  'product_name': 'Вайт',\n",
       "  'product': 'card',\n",
       "  'product_type': 'debt',\n",
       "  'balance': 23000},\n",
       " {'id': 2, 'product_name': 'Эир', 'product': 'credit', 'balance': 350000}]"
      ]
     },
     "execution_count": 4,
     "metadata": {},
     "output_type": "execute_result"
    }
   ],
   "source": [
    "data"
   ]
  },
  {
   "cell_type": "code",
   "execution_count": 15,
   "metadata": {},
   "outputs": [
    {
     "name": "stdout",
     "output_type": "stream",
     "text": [
      "{'id': 1, 'product_name': 'Вайт', 'product': 'card', 'product_type': 'debt', 'balance': 23000}\n",
      "card debt\n",
      "{'id': 2, 'product_name': 'Эир', 'product': 'credit', 'balance': 350000}\n"
     ]
    }
   ],
   "source": [
    "if data is not None and len(data) > 0:\n",
    "    for product in data:\n",
    "        print(product)\n",
    "        if product['product'] == 'card' and product['product_type'] == 'debt':\n",
    "            print(product['product'], product['product_type'])\n",
    "#             product_str = \"\"\n",
    "#             product_type_str = \"\"\n",
    "\n",
    "#             if product[\"product\"] == \"card\":\n",
    "#                 product_str = \"карте\"\n",
    "#                 if product[\"product_type\"] == \"debt\":\n",
    "#                     product_type_str = \"дебетовой\"\n",
    "#                 else:\n",
    "#                     product_type_str = \"кредитной\"\n",
    "#             else:\n",
    "#                 product_str = \"счёте\"\n",
    "\n",
    "#             print(\n",
    "#                 \"Баланс на {} {} {} состовляет {} рублей.\"\n",
    "#                     .format(product_type_str, product_str, product.product_name, product.balance)\n",
    "#             )"
   ]
  },
  {
   "cell_type": "code",
   "execution_count": null,
   "metadata": {},
   "outputs": [],
   "source": []
  }
 ],
 "metadata": {
  "kernelspec": {
   "display_name": "Python 3",
   "language": "python",
   "name": "python3"
  },
  "language_info": {
   "codemirror_mode": {
    "name": "ipython",
    "version": 3
   },
   "file_extension": ".py",
   "mimetype": "text/x-python",
   "name": "python",
   "nbconvert_exporter": "python",
   "pygments_lexer": "ipython3",
   "version": "3.7.3"
  }
 },
 "nbformat": 4,
 "nbformat_minor": 2
}
